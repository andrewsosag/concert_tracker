{
 "cells": [
  {
   "cell_type": "code",
   "execution_count": 1,
   "metadata": {},
   "outputs": [],
   "source": [
    "import requests\n",
    "import sqlite3\n",
    "from config import SEATGEEK_CLIENT_ID, SEATGEEK_CLIENT_SECRET"
   ]
  },
  {
   "cell_type": "code",
   "execution_count": 22,
   "metadata": {},
   "outputs": [],
   "source": [
    "def fetch_events():\n",
    "    api_url = 'https://api.seatgeek.com/2/events'\n",
    "    params = {\n",
    "        'client_id': SEATGEEK_CLIENT_ID,\n",
    "        'taxonomies.name': 'concert',  # Filter for music concerts\n",
    "        'per_page': 500,  # Fetch top 500 events\n",
    "        'sort': 'score.desc'  # Sort by popularity score, descending\n",
    "    }\n",
    "\n",
    "    response = requests.get(api_url, params=params)\n",
    "    if response.status_code == 200:\n",
    "        return response.json()['events']\n",
    "    else:\n",
    "        print(f\"Failed to fetch events: {response.status_code}, Response: {response.text}\")\n",
    "        return None"
   ]
  },
  {
   "cell_type": "code",
   "execution_count": 4,
   "metadata": {},
   "outputs": [],
   "source": [
    "# Parse API Response\n",
    "def parse_event_data(events):\n",
    "    parsed_data = []\n",
    "    for event in events:\n",
    "        event_name = event['title']\n",
    "        event_date = event['datetime_local']\n",
    "        venue_name = event['venue']['name']\n",
    "        city_name = event['venue']['city']\n",
    "        lowest_price = event['stats'].get('lowest_price', 'N/A')\n",
    "        highest_price = event['stats'].get('highest_price', 'N/A')\n",
    "\n",
    "        parsed_data.append({\n",
    "            'event_name': event_name,\n",
    "            'event_date': event_date,\n",
    "            'venue_name': venue_name,\n",
    "            'city_name': city_name,\n",
    "            'lowest_price': lowest_price,\n",
    "            'highest_price': highest_price\n",
    "        })\n",
    "\n",
    "    return parsed_data"
   ]
  },
  {
   "cell_type": "code",
   "execution_count": 5,
   "metadata": {},
   "outputs": [],
   "source": [
    "def create_database():\n",
    "    conn = sqlite3.connect('events.db')  # This creates a file 'events.db' in the current directory\n",
    "    c = conn.cursor()\n",
    "\n",
    "    # SQL statement to create a table\n",
    "    c.execute('''\n",
    "        CREATE TABLE IF NOT EXISTS events (\n",
    "            id INTEGER PRIMARY KEY AUTOINCREMENT,\n",
    "            event_name TEXT,\n",
    "            event_date TEXT,\n",
    "            venue_name TEXT,\n",
    "            city_name TEXT,\n",
    "            lowest_price REAL,\n",
    "            highest_price REAL\n",
    "        )\n",
    "    ''')\n",
    "\n",
    "    conn.commit()  # Commit the changes\n",
    "    conn.close()   # Close the connection to the database\n",
    "\n"
   ]
  },
  {
   "cell_type": "code",
   "execution_count": 6,
   "metadata": {},
   "outputs": [],
   "source": [
    "def insert_data(parsed_data):\n",
    "    conn = sqlite3.connect('events.db')\n",
    "    c = conn.cursor()\n",
    "\n",
    "    for event in parsed_data:\n",
    "        # Insert each event into the events table\n",
    "        c.execute('''\n",
    "            INSERT INTO events (event_name, event_date, venue_name, city_name, lowest_price, highest_price)\n",
    "            VALUES (?, ?, ?, ?, ?, ?)\n",
    "        ''', (event['event_name'], event['event_date'], event['venue_name'], event['city_name'], event['lowest_price'], event['highest_price']))\n",
    "\n",
    "    conn.commit()\n",
    "    conn.close()"
   ]
  },
  {
   "cell_type": "code",
   "execution_count": 23,
   "metadata": {},
   "outputs": [
    {
     "name": "stdout",
     "output_type": "stream",
     "text": [
      "(211, 'Drake with J. Cole', '2024-01-26T20:00:00', 'Paycom Center', 'Oklahoma City', 173.0, 21624.0)\n",
      "(212, 'Billy Joel', '2023-11-22T20:00:00', 'Madison Square Garden', 'New York', 171.0, 12026.0)\n",
      "(213, 'Rod Wave - Nostalgia Tour', '2023-12-17T20:00:00', 'Amerant Bank Arena', 'Sunrise', 176.0, 1066.0)\n",
      "(214, 'Billy Joel & Stevie Nicks', '2024-03-09T19:00:00', 'AT&T Stadium', 'Arlington', 135.0, 2672.0)\n",
      "(215, 'Trans-Siberian Orchestra-The Ghosts Of Christmas Eve-Matinee', '2023-11-21T15:00:00', 'Delta Center', 'Salt Lake City', 68.0, 144.0)\n",
      "(216, 'Taylor Swift', '2024-10-27T19:00:00', 'Caesars Superdome', 'New Orleans', 1095.0, 76639.0)\n",
      "(217, 'Taylor Swift', '2024-10-20T19:00:00', 'Hard Rock Stadium', 'Miami Gardens', 1455.0, 84164.0)\n",
      "(218, 'Travis Scott', '2023-11-21T19:00:00', 'Moody Center ATX', 'Austin', 74.0, 11664.0)\n",
      "(219, 'Trans-Siberian Orchestra-The Ghosts Of Christmas Eve', '2023-11-21T19:00:00', 'Delta Center', 'Salt Lake City', 81.0, 144.0)\n",
      "(220, 'Drake with J. Cole', '2024-01-19T20:00:00', 'Ball Arena', 'Denver', 329.0, 27880.0)\n",
      "(221, 'U2', '2023-12-01T20:00:00', 'MSG Sphere', 'Las Vegas', 563.0, 9139.0)\n",
      "(222, 'Morgan Wallen: One Night At A Time 2024', '2024-07-26T16:30:00', 'AT&T Stadium', 'Arlington', 196.0, 1450.0)\n",
      "(223, 'Rod Wave with Ari Lennox, Toosii, and G Herbo', '2023-11-22T20:00:00', 'United Center', 'Chicago', 195.0, 12129.0)\n",
      "(224, 'Trans-Siberian Orchestra', '2023-12-22T19:30:00', 'Rocket Mortgage FieldHouse', 'Cleveland', 78.0, 900.0)\n",
      "(225, 'U2', '2024-01-27T20:00:00', 'MSG Sphere', 'Las Vegas', 592.0, 9484.0)\n",
      "(226, \"Drake with J. Cole: It's All A Blur Tour - Big As The What?\", '2024-02-24T20:00:00', 'Rocket Mortgage FieldHouse', 'Cleveland', 196.0, 1269.0)\n",
      "(227, 'U2', '2023-12-02T20:00:00', 'MSG Sphere', 'Las Vegas', 765.0, 8247.0)\n",
      "(228, 'Taylor Swift', '2024-11-03T19:00:00', 'Lucas Oil Stadium', 'Indianapolis', 1418.0, 148130.0)\n",
      "(229, 'U2', '2023-12-08T20:00:00', 'MSG Sphere', 'Las Vegas', 563.0, 12749.0)\n",
      "(230, 'U2', '2024-01-26T20:00:00', 'MSG Sphere', 'Las Vegas', 588.0, 6704.0)\n",
      "(231, 'Drake', '2024-03-15T20:00:00', 'UBS Arena', 'Elmont', 201.0, 5470.0)\n",
      "(232, 'Trans-Siberian Orchestra', '2023-12-22T15:00:00', 'Rocket Mortgage FieldHouse', 'Cleveland', 78.0, 191.0)\n",
      "(233, 'Taylor Swift', '2024-10-26T19:00:00', 'Caesars Superdome', 'New Orleans', 1172.0, 82363.0)\n",
      "(234, 'Drake with J. Cole', '2024-02-17T20:00:00', 'PPG Paints Arena', 'Pittsburgh', 196.0, 8846.0)\n",
      "(235, 'Taylor Swift', '2024-10-25T19:00:00', 'Caesars Superdome', 'New Orleans', 1250.0, 147369.0)\n"
     ]
    }
   ],
   "source": [
    "def clear_data():\n",
    "    conn = sqlite3.connect('events.db')\n",
    "    c = conn.cursor()\n",
    "    c.execute('DELETE FROM events')  # This should clear all data from the events table\n",
    "    conn.commit()  # Committing the changes to the database\n",
    "    conn.close()\n",
    "\n",
    "def main():\n",
    "    create_database()\n",
    "    try:\n",
    "        clear_data()  # Attempt to clear the data\n",
    "        print(\"Data cleared successfully.\")\n",
    "    except Exception as e:\n",
    "        print(f\"Error clearing data: {e}\")\n",
    "\n",
    "    events = fetch_events()\n",
    "    if events:\n",
    "        parsed_data = parse_event_data(events)\n",
    "        insert_data(parsed_data)\n",
    "\n",
    "        top_25_query = \"SELECT * FROM events ORDER BY id LIMIT 25;\"\n",
    "        top_25_events = run_query(top_25_query)\n",
    "        for event in top_25_events:\n",
    "            print(event)\n",
    "\n",
    "if __name__ == '__main__':\n",
    "    main()"
   ]
  }
 ],
 "metadata": {
  "kernelspec": {
   "display_name": "venv",
   "language": "python",
   "name": "python3"
  },
  "language_info": {
   "codemirror_mode": {
    "name": "ipython",
    "version": 3
   },
   "file_extension": ".py",
   "mimetype": "text/x-python",
   "name": "python",
   "nbconvert_exporter": "python",
   "pygments_lexer": "ipython3",
   "version": "3.11.5"
  },
  "orig_nbformat": 4,
  "vscode": {
   "interpreter": {
    "hash": "91af5f33902c1e1d6d6095834475744a838eb7954da06e6ba6fcb3149aaaa32a"
   }
  }
 },
 "nbformat": 4,
 "nbformat_minor": 2
}
