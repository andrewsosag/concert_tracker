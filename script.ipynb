{
 "cells": [
  {
   "cell_type": "code",
   "execution_count": 1,
   "metadata": {},
   "outputs": [],
   "source": [
    "import requests\n",
    "import sqlite3\n",
    "from config import SEATGEEK_CLIENT_ID, SEATGEEK_CLIENT_SECRET"
   ]
  },
  {
   "cell_type": "code",
   "execution_count": 22,
   "metadata": {},
   "outputs": [],
   "source": [
    "def fetch_events():\n",
    "    api_url = 'https://api.seatgeek.com/2/events'\n",
    "    params = {\n",
    "        'client_id': SEATGEEK_CLIENT_ID,\n",
    "        'taxonomies.name': 'concert',  # Filter for music concerts\n",
    "        'per_page': 500,  # Fetch top 500 events\n",
    "        'sort': 'score.desc'  # Sort by popularity score, descending\n",
    "    }\n",
    "\n",
    "    response = requests.get(api_url, params=params)\n",
    "    if response.status_code == 200:\n",
    "        return response.json()['events']\n",
    "    else:\n",
    "        print(f\"Failed to fetch events: {response.status_code}, Response: {response.text}\")\n",
    "        return None"
   ]
  },
  {
   "cell_type": "code",
   "execution_count": 4,
   "metadata": {},
   "outputs": [],
   "source": [
    "# Parse API Response\n",
    "def parse_event_data(events):\n",
    "    parsed_data = []\n",
    "    for event in events:\n",
    "        event_name = event['title']\n",
    "        event_date = event['datetime_local']\n",
    "        venue_name = event['venue']['name']\n",
    "        city_name = event['venue']['city']\n",
    "        lowest_price = event['stats'].get('lowest_price', 'N/A')\n",
    "        highest_price = event['stats'].get('highest_price', 'N/A')\n",
    "\n",
    "        parsed_data.append({\n",
    "            'event_name': event_name,\n",
    "            'event_date': event_date,\n",
    "            'venue_name': venue_name,\n",
    "            'city_name': city_name,\n",
    "            'lowest_price': lowest_price,\n",
    "            'highest_price': highest_price\n",
    "        })\n",
    "\n",
    "    return parsed_data"
   ]
  },
  {
   "cell_type": "code",
   "execution_count": 5,
   "metadata": {},
   "outputs": [],
   "source": [
    "def create_database():\n",
    "    conn = sqlite3.connect('events.db')  # This creates a file 'events.db' in the current directory\n",
    "    c = conn.cursor()\n",
    "\n",
    "    # SQL statement to create a table\n",
    "    c.execute('''\n",
    "        CREATE TABLE IF NOT EXISTS events (\n",
    "            id INTEGER PRIMARY KEY AUTOINCREMENT,\n",
    "            event_name TEXT,\n",
    "            event_date TEXT,\n",
    "            venue_name TEXT,\n",
    "            city_name TEXT,\n",
    "            lowest_price REAL,\n",
    "            highest_price REAL\n",
    "        )\n",
    "    ''')\n",
    "\n",
    "    conn.commit()  # Commit the changes\n",
    "    conn.close()   # Close the connection to the database\n",
    "\n"
   ]
  },
  {
   "cell_type": "code",
   "execution_count": 6,
   "metadata": {},
   "outputs": [],
   "source": [
    "def insert_data(parsed_data):\n",
    "    conn = sqlite3.connect('events.db')\n",
    "    c = conn.cursor()\n",
    "\n",
    "    for event in parsed_data:\n",
    "        # Insert each event into the events table\n",
    "        c.execute('''\n",
    "            INSERT INTO events (event_name, event_date, venue_name, city_name, lowest_price, highest_price)\n",
    "            VALUES (?, ?, ?, ?, ?, ?)\n",
    "        ''', (event['event_name'], event['event_date'], event['venue_name'], event['city_name'], event['lowest_price'], event['highest_price']))\n",
    "\n",
    "    conn.commit()\n",
    "    conn.close()"
   ]
  },
  {
   "cell_type": "code",
   "execution_count": 25,
   "metadata": {},
   "outputs": [
    {
     "name": "stdout",
     "output_type": "stream",
     "text": [
      "Data cleared successfully.\n",
      "(1, 'Drake with J. Cole', '2024-01-26T20:00:00', 'Paycom Center', 'Oklahoma City', 173.0, 21624.0)\n",
      "(2, 'Billy Joel', '2023-11-22T20:00:00', 'Madison Square Garden', 'New York', 171.0, 12026.0)\n",
      "(3, 'Rod Wave - Nostalgia Tour', '2023-12-17T20:00:00', 'Amerant Bank Arena', 'Sunrise', 176.0, 1066.0)\n",
      "(4, 'Billy Joel & Stevie Nicks', '2024-03-09T19:00:00', 'AT&T Stadium', 'Arlington', 135.0, 2672.0)\n",
      "(5, 'Trans-Siberian Orchestra-The Ghosts Of Christmas Eve-Matinee', '2023-11-21T15:00:00', 'Delta Center', 'Salt Lake City', 68.0, 144.0)\n",
      "(6, 'Taylor Swift', '2024-10-27T19:00:00', 'Caesars Superdome', 'New Orleans', 1095.0, 76639.0)\n",
      "(7, 'Taylor Swift', '2024-10-20T19:00:00', 'Hard Rock Stadium', 'Miami Gardens', 1455.0, 84164.0)\n",
      "(8, 'Travis Scott', '2023-11-21T19:00:00', 'Moody Center ATX', 'Austin', 74.0, 11664.0)\n",
      "(9, 'Trans-Siberian Orchestra-The Ghosts Of Christmas Eve', '2023-11-21T19:00:00', 'Delta Center', 'Salt Lake City', 81.0, 144.0)\n",
      "(10, 'Drake with J. Cole', '2024-01-19T20:00:00', 'Ball Arena', 'Denver', 329.0, 27880.0)\n",
      "(11, 'U2', '2023-12-01T20:00:00', 'MSG Sphere', 'Las Vegas', 563.0, 9139.0)\n",
      "(12, 'Morgan Wallen: One Night At A Time 2024', '2024-07-26T16:30:00', 'AT&T Stadium', 'Arlington', 196.0, 1450.0)\n",
      "(13, 'Rod Wave with Ari Lennox, Toosii, and G Herbo', '2023-11-22T20:00:00', 'United Center', 'Chicago', 195.0, 12129.0)\n",
      "(14, 'Trans-Siberian Orchestra', '2023-12-22T19:30:00', 'Rocket Mortgage FieldHouse', 'Cleveland', 78.0, 900.0)\n",
      "(15, 'U2', '2024-01-27T20:00:00', 'MSG Sphere', 'Las Vegas', 592.0, 9484.0)\n",
      "(16, \"Drake with J. Cole: It's All A Blur Tour - Big As The What?\", '2024-02-24T20:00:00', 'Rocket Mortgage FieldHouse', 'Cleveland', 196.0, 1269.0)\n",
      "(17, 'U2', '2023-12-02T20:00:00', 'MSG Sphere', 'Las Vegas', 765.0, 8247.0)\n",
      "(18, 'Taylor Swift', '2024-11-03T19:00:00', 'Lucas Oil Stadium', 'Indianapolis', 1418.0, 148130.0)\n",
      "(19, 'U2', '2023-12-08T20:00:00', 'MSG Sphere', 'Las Vegas', 563.0, 12749.0)\n",
      "(20, 'U2', '2024-01-26T20:00:00', 'MSG Sphere', 'Las Vegas', 588.0, 6704.0)\n",
      "(21, 'Drake', '2024-03-15T20:00:00', 'UBS Arena', 'Elmont', 201.0, 5470.0)\n",
      "(22, 'Trans-Siberian Orchestra', '2023-12-22T15:00:00', 'Rocket Mortgage FieldHouse', 'Cleveland', 78.0, 191.0)\n",
      "(23, 'Taylor Swift', '2024-10-26T19:00:00', 'Caesars Superdome', 'New Orleans', 1172.0, 82363.0)\n",
      "(24, 'Drake with J. Cole', '2024-02-17T20:00:00', 'PPG Paints Arena', 'Pittsburgh', 196.0, 8846.0)\n",
      "(25, 'Taylor Swift', '2024-10-25T19:00:00', 'Caesars Superdome', 'New Orleans', 1250.0, 147369.0)\n"
     ]
    }
   ],
   "source": [
    "def clear_data():\n",
    "    conn = sqlite3.connect('events.db')\n",
    "    c = conn.cursor()\n",
    "    c.execute('DELETE FROM events')\n",
    "    c.execute('UPDATE sqlite_sequence SET seq = 0 WHERE name = \"events\"')  # Reset auto-increment counter\n",
    "    conn.commit()\n",
    "    conn.close()\n",
    "\n",
    "def main():\n",
    "    create_database()\n",
    "    try:\n",
    "        clear_data()  # Attempt to clear the data\n",
    "        print(\"Data cleared successfully.\")\n",
    "    except Exception as e:\n",
    "        print(f\"Error clearing data: {e}\")\n",
    "\n",
    "    events = fetch_events()\n",
    "    if events:\n",
    "        parsed_data = parse_event_data(events)\n",
    "        insert_data(parsed_data)\n",
    "\n",
    "        top_25_query = \"SELECT * FROM events ORDER BY id LIMIT 25;\"\n",
    "        top_25_events = run_query(top_25_query)\n",
    "        for event in top_25_events:\n",
    "            print(event)\n",
    "\n",
    "if __name__ == '__main__':\n",
    "    main()"
   ]
  },
  {
   "cell_type": "code",
   "execution_count": 26,
   "metadata": {},
   "outputs": [],
   "source": [
    "def update_event_prices(event):\n",
    "    conn = sqlite3.connect('events.db')\n",
    "    c = conn.cursor()\n",
    "    c.execute('''\n",
    "        UPDATE events \n",
    "        SET lowest_price = ?, highest_price = ? \n",
    "        WHERE event_id = ?\n",
    "    ''', (event['lowest_price'], event['highest_price'], event['event_id']))\n",
    "    conn.commit()\n",
    "    conn.close()\n",
    "\n",
    "def update_data(parsed_data):\n",
    "    for event in parsed_data:\n",
    "        update_event_prices(event)"
   ]
  },
  {
   "cell_type": "code",
   "execution_count": null,
   "metadata": {},
   "outputs": [],
   "source": [
    "import datetime\n",
    "\n",
    "def delete_past_events():\n",
    "    today = datetime.datetime.now().strftime(\"%Y-%m-%dT%H:%M:%S\")\n",
    "    conn = sqlite3.connect('events.db')\n",
    "    c = conn.cursor()\n",
    "    c.execute('''\n",
    "        DELETE FROM events \n",
    "        WHERE event_date < ?\n",
    "    ''', (today,))\n",
    "    conn.commit()\n",
    "    conn.close()\n",
    "\n",
    "# Call this function as needed, possibly in the same interval as your updates"
   ]
  }
 ],
 "metadata": {
  "kernelspec": {
   "display_name": "venv",
   "language": "python",
   "name": "python3"
  },
  "language_info": {
   "codemirror_mode": {
    "name": "ipython",
    "version": 3
   },
   "file_extension": ".py",
   "mimetype": "text/x-python",
   "name": "python",
   "nbconvert_exporter": "python",
   "pygments_lexer": "ipython3",
   "version": "3.11.5"
  },
  "orig_nbformat": 4,
  "vscode": {
   "interpreter": {
    "hash": "91af5f33902c1e1d6d6095834475744a838eb7954da06e6ba6fcb3149aaaa32a"
   }
  }
 },
 "nbformat": 4,
 "nbformat_minor": 2
}
